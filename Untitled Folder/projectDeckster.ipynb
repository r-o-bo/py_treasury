{
 "cells": [
  {
   "cell_type": "code",
   "execution_count": null,
   "metadata": {},
   "outputs": [],
   "source": [
    "class Cat():\n",
    "    species = \"Mammal\"\n",
    "    def __init__(self,attitude,fur,meow):\n",
    "        self.attitude = attitude\n",
    "        self.fur = fur\n",
    "        self.meow = meow\n",
    "\n",
    "my_cat = Cat(attitude=\"MAX\",fur=)\n"
   ]
  }
 ],
 "metadata": {
  "language_info": {
   "name": "python"
  }
 },
 "nbformat": 4,
 "nbformat_minor": 2
}
