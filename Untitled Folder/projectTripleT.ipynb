{
 "cells": [
  {
   "cell_type": "markdown",
   "id": "df6bf6ff",
   "metadata": {},
   "source": [
    "# Tic Tac Toe Milestone project\n",
    "   ## By yours truly :)\n",
    "   \n",
    "\n",
    "   \n",
    "   \n",
    "\n"
   ]
  },
  {
   "cell_type": "code",
   "execution_count": 15,
   "id": "a9c0edf1",
   "metadata": {},
   "outputs": [
    {
     "name": "stdout",
     "output_type": "stream",
     "text": [
      "_|_|_\n",
      "_|_|_\n",
      " | | \n"
     ]
    }
   ],
   "source": [
    "# First we work on displaying the board\n",
    "\n",
    "board = [\"_\", \"_\", \"_\",\n",
    "         \"_\", \"_\", \"_\",\n",
    "         \" \", \" \", \" \"]\n",
    "\n",
    "def display_board():\n",
    "    print(board[0] + \"|\" + board[1] + \"|\" +board[2])\n",
    "    print(board[3] + \"|\" + board[4] + \"|\" +board[5])\n",
    "    print(board[6] + \"|\" + board[7] + \"|\" +board[8])\n",
    "\n",
    "display_board()\n",
    "game_on = True"
   ]
  },
  {
   "cell_type": "code",
   "execution_count": 6,
   "id": "d0fbcb6d",
   "metadata": {},
   "outputs": [
    {
     "name": "stdout",
     "output_type": "stream",
     "text": [
      "Invald response, please try again\n",
      "Symbols of player 1 and player 2 respectively: \n"
     ]
    },
    {
     "data": {
      "text/plain": [
       "('X', 'O')"
      ]
     },
     "execution_count": 6,
     "metadata": {},
     "output_type": "execute_result"
    }
   ],
   "source": [
    "# Taking in user input babyyyy\n",
    "def players_input():\n",
    "    marker = \"bruh\"\n",
    "    while not (marker == \"X\" or marker == \"O\"):\n",
    "         marker = str(input(\"Hey Player 1! Choose between X and O: \"))\n",
    "         if marker == \"O\":\n",
    "              print(\"Symbols of player 1 and player 2 respectively: \")\n",
    "              return (\"O\", \"X\")\n",
    "         elif marker == \"X\":\n",
    "              print(\"Symbols of player 1 and player 2 respectively: \")\n",
    "              return (\"X\", \"O\")\n",
    "         else:\n",
    "              print(\"Invalid response, please try again\")\n",
    "              # We don't break the loop since we'd need the correct response eventually\n",
    "players_input()"
   ]
  },
  {
   "cell_type": "code",
   "execution_count": 14,
   "id": "2fe6bed9",
   "metadata": {},
   "outputs": [
    {
     "name": "stdout",
     "output_type": "stream",
     "text": [
      "_|_|_\n",
      "_|_|_\n",
      " | |X\n"
     ]
    }
   ],
   "source": [
    "# The Replacement function\n",
    "def replace(theboard,marker,pos):\n",
    "    theboard[pos] = marker\n",
    "    \n",
    "replace(board,\"X\",8)\n",
    "display_board()"
   ]
  },
  {
   "cell_type": "code",
   "execution_count": 23,
   "id": "df08dde0",
   "metadata": {},
   "outputs": [
    {
     "data": {
      "text/plain": [
       "False"
      ]
     },
     "execution_count": 23,
     "metadata": {},
     "output_type": "execute_result"
    }
   ],
   "source": [
    "# Game logic 1: Victory condition\n",
    "def check__win(theboard,mark):\n",
    "    return ((theboard[0] == mark and theboard[1] == mark and theboard[2] == mark) or\n",
    "            (theboard[3] == mark and theboard[4] == mark and theboard[5] == mark) or\n",
    "            (theboard[6] == mark and theboard[7] == mark and theboard[8] == mark) or\n",
    "            (theboard[0] == mark and theboard[3] == mark and theboard[6] == mark) or \n",
    "            (theboard[1] == mark and theboard[4] == mark and theboard[7] == mark) or \n",
    "            (theboard[2] == mark and theboard[5] == mark and theboard[8] == mark) or\n",
    "            (theboard[0] == mark and theboard[4] == mark and theboard[8] == mark) or\n",
    "            (theboard[2] == mark and theboard[4] == mark and theboard[6] == mark))\n",
    "check__win(board,\"O\")\n",
    "            \n",
    "    \n",
    "    "
   ]
  },
  {
   "cell_type": "code",
   "execution_count": 24,
   "id": "0592faa2",
   "metadata": {},
   "outputs": [
    {
     "data": {
      "text/plain": [
       "True"
      ]
     },
     "execution_count": 24,
     "metadata": {},
     "output_type": "execute_result"
    }
   ],
   "source": [
    "# Game logic 2: Space check\n",
    "def space_check(theboard, pos):\n",
    "    if board[pos] == \" \" or \"_\":\n",
    "        return True # Returns true if space is available\n",
    "    else:\n",
    "        return False # Returns false if not\n",
    "    \n",
    "space_check(board,2)"
   ]
  },
  {
   "cell_type": "code",
   "execution_count": 25,
   "id": "e30d35b0",
   "metadata": {},
   "outputs": [
    {
     "data": {
      "text/plain": [
       "False"
      ]
     },
     "execution_count": 25,
     "metadata": {},
     "output_type": "execute_result"
    }
   ],
   "source": [
    "# Game logic 3: Full board check\n",
    "def full_board_check(theboard):\n",
    "    for i in range(0,9):\n",
    "        if space_check(theboard,i):\n",
    "            return False\n",
    "        else:\n",
    "            return True  \n",
    "full_board_check(board)\n",
    "        "
   ]
  }
 ],
 "metadata": {
  "kernelspec": {
   "display_name": "Python 3 (ipykernel)",
   "language": "python",
   "name": "python3"
  },
  "language_info": {
   "codemirror_mode": {
    "name": "ipython",
    "version": 3
   },
   "file_extension": ".py",
   "mimetype": "text/x-python",
   "name": "python",
   "nbconvert_exporter": "python",
   "pygments_lexer": "ipython3",
   "version": "3.11.5"
  }
 },
 "nbformat": 4,
 "nbformat_minor": 5
}
