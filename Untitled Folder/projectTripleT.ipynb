{
 "cells": [
  {
   "cell_type": "markdown",
   "id": "df6bf6ff",
   "metadata": {},
   "source": [
    "# Tic Tac Toe Milestone project\n",
    "   ## By yours truly :)\n",
    "   \n",
    "\n",
    "   \n",
    "   \n",
    "\n"
   ]
  },
  {
   "cell_type": "code",
   "execution_count": 1,
   "id": "a9c0edf1",
   "metadata": {},
   "outputs": [
    {
     "name": "stdout",
     "output_type": "stream",
     "text": [
      "_|_|_\n",
      "_|_|_\n",
      " | | \n"
     ]
    }
   ],
   "source": [
    "# First we work on displaying the board\n",
    "\n",
    "board = [\"_\", \"_\", \"_\",\n",
    "         \"_\", \"_\", \"_\",\n",
    "         \" \", \" \", \" \"]\n",
    "\n",
    "def display_board():\n",
    "    print(board[0] + \"|\" + board[1] + \"|\" +board[2])\n",
    "    print(board[3] + \"|\" + board[4] + \"|\" +board[5])\n",
    "    print(board[6] + \"|\" + board[7] + \"|\" +board[8])\n",
    "display_board()\n",
    "\n",
    "game_on = True"
   ]
  },
  {
   "cell_type": "code",
   "execution_count": 2,
   "id": "d0fbcb6d",
   "metadata": {},
   "outputs": [],
   "source": [
    "# Taking in user input babyyyy\n",
    "def players_input():\n",
    "    marker = \"bruh\"\n",
    "    while not (marker == \"X\" or marker == \"O\"):\n",
    "         marker = str(input(\"Choose between X and O: \"))\n",
    "         if marker == \"O\":\n",
    "              return (\"O\", \"X\")\n",
    "         elif marker == \"X\":\n",
    "              return (\"X\", \"O\")\n",
    "         else:\n",
    "              print(\"Invalid response, please try again\")\n",
    "              # We don't break the loop since we'd need the correct response eventually"
   ]
  },
  {
   "cell_type": "code",
   "execution_count": 3,
   "id": "2fe6bed9",
   "metadata": {},
   "outputs": [],
   "source": [
    "# The Replacement function\n",
    "def replace(theboard,marker,pos):\n",
    "    theboard[pos] = marker"
   ]
  },
  {
   "cell_type": "code",
   "execution_count": 4,
   "id": "df08dde0",
   "metadata": {},
   "outputs": [],
   "source": [
    "# Game logic 0: Victory condition\n",
    "def check_win(theboard,mark):\n",
    "    return ((theboard[0] == mark and theboard[1] == mark and theboard[2] == mark) or # Across top\n",
    "            (theboard[3] == mark and theboard[4] == mark and theboard[5] == mark) or # Across Middle \n",
    "            (theboard[6] == mark and theboard[7] == mark and theboard[8] == mark) or # Across Bottom\n",
    "            (theboard[0] == mark and theboard[3] == mark and theboard[6] == mark) or # Down left\n",
    "            (theboard[1] == mark and theboard[4] == mark and theboard[7] == mark) or # Down middle\n",
    "            (theboard[2] == mark and theboard[5] == mark and theboard[8] == mark) or # Down right\n",
    "            (theboard[0] == mark and theboard[4] == mark and theboard[8] == mark) or # Diagonal 1\n",
    "            (theboard[2] == mark and theboard[4] == mark and theboard[6] == mark)) # Diagonal 2"
   ]
  },
  {
   "cell_type": "code",
   "execution_count": 5,
   "id": "b6d77335",
   "metadata": {},
   "outputs": [],
   "source": [
    "# Game logic 1: Random Module\n",
    "import random\n",
    "\n",
    "def choose_first():\n",
    "    if random.randint(0, 1) == 0:\n",
    "        return \"Player 2\"\n",
    "    else:\n",
    "        return \"Player 1\""
   ]
  },
  {
   "cell_type": "code",
   "execution_count": 6,
   "id": "0592faa2",
   "metadata": {},
   "outputs": [],
   "source": [
    "# Game logic 2: Space check\n",
    "def space_check(theboard, pos):\n",
    "    if theboard[pos] == \" \" or \"_\":\n",
    "        return True # Returns true if space is available\n",
    "    else:\n",
    "        return False # Returns false if not"
   ]
  },
  {
   "cell_type": "code",
   "execution_count": 7,
   "id": "e30d35b0",
   "metadata": {},
   "outputs": [],
   "source": [
    "# Game logic 3: Full board check\n",
    "def full_board_check(theboard):\n",
    "    for i in range(0,8):\n",
    "        if space_check(theboard,i):\n",
    "            return False\n",
    "        else:\n",
    "            print(\"Board full\")\n",
    "            return True  "
   ]
  },
  {
   "cell_type": "code",
   "execution_count": 8,
   "id": "6f2116f3",
   "metadata": {},
   "outputs": [],
   "source": [
    "# Game logic 4: Player choice\n",
    "def player_choice(theboard):\n",
    "    while True:\n",
    "        pos = input(\"Enter your position (0-8): \")\n",
    "        if pos.isdigit():\n",
    "            num_pos = int(pos)\n",
    "            if 0 <= num_pos <= 8:\n",
    "                if space_check(theboard,num_pos):\n",
    "                    display_board()\n",
    "                    return num_pos\n",
    "                else:\n",
    "                    print(\"The position is filled, please try again\")\n",
    "                    \n",
    "            else:\n",
    "                print(\"Invalid arguement\")\n",
    "                \n",
    "        else:\n",
    "            print(\"Please enter a valid digit (0-8): \")"
   ]
  },
  {
   "cell_type": "code",
   "execution_count": 9,
   "id": "ddca09f8",
   "metadata": {},
   "outputs": [],
   "source": [
    "# Game logic 5: Replay\n",
    "def replay():\n",
    "    while True:\n",
    "        play_again = input(\"Do you want to play again? (Y or N): \")\n",
    "        if play_again == \"Y\":\n",
    "            return True\n",
    "        elif play_again == \"N\":\n",
    "            return False\n",
    "        else:\n",
    "            print(\"Please enter a valid arguement!\")"
   ]
  },
  {
   "cell_type": "code",
   "execution_count": null,
   "id": "c0c9e5bb",
   "metadata": {},
   "outputs": [],
   "source": [
    "# Functions optimization logic\n",
    "print(\"Tic Tac Toe and the pissy and the PON\")\n",
    "while True:\n",
    "    sym1, sym2 = players_input()\n",
    "    turn = choose_first()\n",
    "    play_game = input('Are you ready to play? (Y or N): ')\n",
    "    if play_game.upper() == \"Y\":\n",
    "        game_on = True\n",
    "    else:\n",
    "        game_on = False\n",
    "    while game_on:\n",
    "        if turn == \"Player 1\":\n",
    "            display_board()\n",
    "            pos = player_choice(board)\n",
    "            replace(board,sym1,pos)\n",
    "\n",
    "            if check_win(board,sym1):\n",
    "                display_board()\n",
    "                print(\"Congratulations Player 1, you have won the match!\")\n",
    "                break\n",
    "            else:\n",
    "                if full_board_check(board):\n",
    "                    display_board()\n",
    "                    print(\"The game is a draw!\")\n",
    "                    break\n",
    "                else:\n",
    "                    turn = \"Player 2\"\n",
    "        else:\n",
    "            turn == \"Player 2\"\n",
    "            display_board()\n",
    "            pos = player_choice(board)\n",
    "            replace(board,sym2,pos)\n",
    "\n",
    "            if check_win(board,sym2):\n",
    "                display_board()\n",
    "                print(\"Congratulations Player 2, you have won the match!\")\n",
    "                break\n",
    "        \n",
    "            else:\n",
    "                if full_board_check(board):\n",
    "                    display_board\n",
    "                    print(\"The game is a draw!\")\n",
    "                    break\n",
    "                else:\n",
    "                    turn = \"Player 1\"\n",
    "    if not replay():\n",
    "        print(\"You have exited the game\")\n",
    "        break\n",
    "    # FIN"
   ]
  }
 ],
 "metadata": {
  "kernelspec": {
   "display_name": "Python 3 (ipykernel)",
   "language": "python",
   "name": "python3"
  },
  "language_info": {
   "codemirror_mode": {
    "name": "ipython",
    "version": 3
   },
   "file_extension": ".py",
   "mimetype": "text/x-python",
   "name": "python",
   "nbconvert_exporter": "python",
   "pygments_lexer": "ipython3",
   "version": "3.11.5"
  }
 },
 "nbformat": 4,
 "nbformat_minor": 5
}
